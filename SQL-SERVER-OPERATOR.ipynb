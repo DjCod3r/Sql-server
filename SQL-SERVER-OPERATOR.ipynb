{
    "metadata": {
        "kernelspec": {
            "name": "SQL",
            "display_name": "SQL",
            "language": "sql"
        },
        "language_info": {
            "name": "sql",
            "version": ""
        },
        "extensions": {
            "azuredatastudio": {
                "version": 1,
                "views": []
            }
        }
    },
    "nbformat_minor": 2,
    "nbformat": 4,
    "cells": [
        {
            "cell_type": "code",
            "source": [
                "SELECT * FROM cidades\r\n",
                "WHERE uf = 'SP'\r\n",
                "AND populacao > 500000"
            ],
            "metadata": {
                "azdata_cell_guid": "2bca8d09-e05a-400d-82b7-9fd297758bd8",
                "tags": []
            },
            "outputs": [
                {
                    "output_type": "display_data",
                    "data": {
                        "text/html": "(9 rows affected)"
                    },
                    "metadata": {}
                },
                {
                    "output_type": "display_data",
                    "data": {
                        "text/html": "Total execution time: 00:00:00.008"
                    },
                    "metadata": {}
                },
                {
                    "output_type": "execute_result",
                    "metadata": {},
                    "execution_count": 12,
                    "data": {
                        "application/vnd.dataresource+json": {
                            "schema": {
                                "fields": [
                                    {
                                        "name": "uf"
                                    },
                                    {
                                        "name": "cod_uf"
                                    },
                                    {
                                        "name": "cod_mun"
                                    },
                                    {
                                        "name": "nome_mun"
                                    },
                                    {
                                        "name": "populacao"
                                    }
                                ]
                            },
                            "data": [
                                {
                                    "0": "SP",
                                    "1": "35",
                                    "2": "09502",
                                    "3": "Campinas *",
                                    "4": "1039297"
                                },
                                {
                                    "0": "SP",
                                    "1": "35",
                                    "2": "18800",
                                    "3": "Guarulhos *",
                                    "4": "1236192"
                                },
                                {
                                    "0": "SP",
                                    "1": "35",
                                    "2": "34401",
                                    "3": "Osasco *",
                                    "4": "701012"
                                },
                                {
                                    "0": "SP",
                                    "1": "35",
                                    "2": "43402",
                                    "3": "Ribeirão Preto *",
                                    "4": "547417"
                                },
                                {
                                    "0": "SP",
                                    "1": "35",
                                    "2": "47809",
                                    "3": "Santo André *",
                                    "4": "667891"
                                },
                                {
                                    "0": "SP",
                                    "1": "35",
                                    "2": "48708",
                                    "3": "São Bernardo do Campo *",
                                    "4": "781390"
                                },
                                {
                                    "0": "SP",
                                    "1": "35",
                                    "2": "49904",
                                    "3": "São José dos Campos *",
                                    "4": "594948"
                                },
                                {
                                    "0": "SP",
                                    "1": "35",
                                    "2": "50308",
                                    "3": "São Paulo *",
                                    "4": "10886518"
                                },
                                {
                                    "0": "SP",
                                    "1": "35",
                                    "2": "52205",
                                    "3": "Sorocaba *",
                                    "4": "559157"
                                }
                            ]
                        },
                        "text/html": [
                            "<table>",
                            "<tr><th>uf</th><th>cod_uf</th><th>cod_mun</th><th>nome_mun</th><th>populacao</th></tr>",
                            "<tr><td>SP</td><td>35</td><td>09502</td><td>Campinas *</td><td>1039297</td></tr>",
                            "<tr><td>SP</td><td>35</td><td>18800</td><td>Guarulhos *</td><td>1236192</td></tr>",
                            "<tr><td>SP</td><td>35</td><td>34401</td><td>Osasco *</td><td>701012</td></tr>",
                            "<tr><td>SP</td><td>35</td><td>43402</td><td>Ribeirão Preto *</td><td>547417</td></tr>",
                            "<tr><td>SP</td><td>35</td><td>47809</td><td>Santo André *</td><td>667891</td></tr>",
                            "<tr><td>SP</td><td>35</td><td>48708</td><td>São Bernardo do Campo *</td><td>781390</td></tr>",
                            "<tr><td>SP</td><td>35</td><td>49904</td><td>São José dos Campos *</td><td>594948</td></tr>",
                            "<tr><td>SP</td><td>35</td><td>50308</td><td>São Paulo *</td><td>10886518</td></tr>",
                            "<tr><td>SP</td><td>35</td><td>52205</td><td>Sorocaba *</td><td>559157</td></tr>",
                            "</table>"
                        ]
                    }
                }
            ],
            "execution_count": 12
        },
        {
            "cell_type": "code",
            "source": [
                "SELECT * FROM cidades\r\n",
                "WHERE nome_mun = 'Dourado'\r\n",
                "AND uf = 'SP'"
            ],
            "metadata": {
                "azdata_cell_guid": "af339093-ee9f-4abd-9128-6aa987c97a00",
                "tags": []
            },
            "outputs": [
                {
                    "output_type": "display_data",
                    "data": {
                        "text/html": "(1 row affected)"
                    },
                    "metadata": {}
                },
                {
                    "output_type": "display_data",
                    "data": {
                        "text/html": "Total execution time: 00:00:00.031"
                    },
                    "metadata": {}
                },
                {
                    "output_type": "execute_result",
                    "execution_count": 7,
                    "data": {
                        "application/vnd.dataresource+json": {
                            "schema": {
                                "fields": [
                                    {
                                        "name": "uf"
                                    },
                                    {
                                        "name": "cod_uf"
                                    },
                                    {
                                        "name": "cod_mun"
                                    },
                                    {
                                        "name": "nome_mun"
                                    },
                                    {
                                        "name": "populacao"
                                    }
                                ]
                            },
                            "data": [
                                {
                                    "0": "SP",
                                    "1": "35",
                                    "2": "14304",
                                    "3": "Dourado",
                                    "4": "8751"
                                }
                            ]
                        },
                        "text/html": "<table><tr><th>uf</th><th>cod_uf</th><th>cod_mun</th><th>nome_mun</th><th>populacao</th></tr><tr><td>SP</td><td>35</td><td>14304</td><td>Dourado</td><td>8751</td></tr></table>"
                    },
                    "metadata": {}
                }
            ],
            "execution_count": 7
        },
        {
            "cell_type": "code",
            "source": [
                "-- Cidades de SP com mais de 100000 de populacao\r\n",
                "SELECT * FROM cidades\r\n",
                "WHERE populacao > 100000\r\n",
                "AND uf = 'SP'"
            ],
            "metadata": {
                "azdata_cell_guid": "91b47197-981c-4aba-94d4-95c48e3e424d"
            },
            "outputs": [
                {
                    "output_type": "display_data",
                    "data": {
                        "text/html": "(70 rows affected)"
                    },
                    "metadata": {}
                },
                {
                    "output_type": "display_data",
                    "data": {
                        "text/html": "Total execution time: 00:00:00.008"
                    },
                    "metadata": {}
                },
                {
                    "output_type": "execute_result",
                    "metadata": {},
                    "execution_count": 2,
                    "data": {
                        "application/vnd.dataresource+json": {
                            "schema": {
                                "fields": [
                                    {
                                        "name": "uf"
                                    },
                                    {
                                        "name": "cod_uf"
                                    },
                                    {
                                        "name": "cod_mun"
                                    },
                                    {
                                        "name": "nome_mun"
                                    },
                                    {
                                        "name": "populacao"
                                    }
                                ]
                            },
                            "data": [
                                {
                                    "0": "SP",
                                    "1": "35",
                                    "2": "01608",
                                    "3": "Americana *",
                                    "4": "199094"
                                },
                                {
                                    "0": "SP",
                                    "1": "35",
                                    "2": "02804",
                                    "3": "Araçatuba *",
                                    "4": "178839"
                                },
                                {
                                    "0": "SP",
                                    "1": "35",
                                    "2": "03208",
                                    "3": "Araraquara *",
                                    "4": "195815"
                                },
                                {
                                    "0": "SP",
                                    "1": "35",
                                    "2": "03307",
                                    "3": "Araras",
                                    "4": "108689"
                                },
                                {
                                    "0": "SP",
                                    "1": "35",
                                    "2": "04107",
                                    "3": "Atibaia",
                                    "4": "119166"
                                },
                                {
                                    "0": "SP",
                                    "1": "35",
                                    "2": "05500",
                                    "3": "Barretos",
                                    "4": "107988"
                                },
                                {
                                    "0": "SP",
                                    "1": "35",
                                    "2": "05708",
                                    "3": "Barueri *",
                                    "4": "252748"
                                },
                                {
                                    "0": "SP",
                                    "1": "35",
                                    "2": "06003",
                                    "3": "Bauru *",
                                    "4": "347601"
                                },
                                {
                                    "0": "SP",
                                    "1": "35",
                                    "2": "06508",
                                    "3": "Birigui",
                                    "4": "103394"
                                },
                                {
                                    "0": "SP",
                                    "1": "35",
                                    "2": "07506",
                                    "3": "Botucatu",
                                    "4": "120800"
                                },
                                {
                                    "0": "SP",
                                    "1": "35",
                                    "2": "07605",
                                    "3": "Bragança Paulista",
                                    "4": "136286"
                                },
                                {
                                    "0": "SP",
                                    "1": "35",
                                    "2": "09502",
                                    "3": "Campinas *",
                                    "4": "1039297"
                                },
                                {
                                    "0": "SP",
                                    "1": "35",
                                    "2": "10609",
                                    "3": "Carapicuíba *",
                                    "4": "379566"
                                },
                                {
                                    "0": "SP",
                                    "1": "35",
                                    "2": "11102",
                                    "3": "Catanduva",
                                    "4": "109362"
                                },
                                {
                                    "0": "SP",
                                    "1": "35",
                                    "2": "13009",
                                    "3": "Cotia *",
                                    "4": "172823"
                                },
                                {
                                    "0": "SP",
                                    "1": "35",
                                    "2": "13504",
                                    "3": "Cubatão",
                                    "4": "120271"
                                },
                                {
                                    "0": "SP",
                                    "1": "35",
                                    "2": "13801",
                                    "3": "Diadema *",
                                    "4": "386779"
                                },
                                {
                                    "0": "SP",
                                    "1": "35",
                                    "2": "15004",
                                    "3": "Embu *",
                                    "4": "237318"
                                },
                                {
                                    "0": "SP",
                                    "1": "35",
                                    "2": "15707",
                                    "3": "Ferraz de Vasconcelos *",
                                    "4": "168897"
                                },
                                {
                                    "0": "SP",
                                    "1": "35",
                                    "2": "16200",
                                    "3": "Franca *",
                                    "4": "319094"
                                },
                                {
                                    "0": "SP",
                                    "1": "35",
                                    "2": "16309",
                                    "3": "Francisco Morato",
                                    "4": "146634"
                                },
                                {
                                    "0": "SP",
                                    "1": "35",
                                    "2": "16408",
                                    "3": "Franco da Rocha",
                                    "4": "121451"
                                },
                                {
                                    "0": "SP",
                                    "1": "35",
                                    "2": "18404",
                                    "3": "Guaratinguetá",
                                    "4": "107895"
                                },
                                {
                                    "0": "SP",
                                    "1": "35",
                                    "2": "18701",
                                    "3": "Guarujá *",
                                    "4": "296150"
                                },
                                {
                                    "0": "SP",
                                    "1": "35",
                                    "2": "18800",
                                    "3": "Guarulhos *",
                                    "4": "1236192"
                                },
                                {
                                    "0": "SP",
                                    "1": "35",
                                    "2": "19071",
                                    "3": "Hortolândia *",
                                    "4": "190781"
                                },
                                {
                                    "0": "SP",
                                    "1": "35",
                                    "2": "20509",
                                    "3": "Indaiatuba *",
                                    "4": "173508"
                                },
                                {
                                    "0": "SP",
                                    "1": "35",
                                    "2": "22208",
                                    "3": "Itapecerica da Serra",
                                    "4": "148728"
                                },
                                {
                                    "0": "SP",
                                    "1": "35",
                                    "2": "22307",
                                    "3": "Itapetininga",
                                    "4": "138450"
                                },
                                {
                                    "0": "SP",
                                    "1": "35",
                                    "2": "22505",
                                    "3": "Itapevi *",
                                    "4": "193686"
                                },
                                {
                                    "0": "SP",
                                    "1": "35",
                                    "2": "23107",
                                    "3": "Itaquaquecetuba *",
                                    "4": "334914"
                                },
                                {
                                    "0": "SP",
                                    "1": "35",
                                    "2": "23909",
                                    "3": "Itu",
                                    "4": "147251"
                                },
                                {
                                    "0": "SP",
                                    "1": "35",
                                    "2": "24402",
                                    "3": "Jacareí *",
                                    "4": "207028"
                                },
                                {
                                    "0": "SP",
                                    "1": "35",
                                    "2": "25003",
                                    "3": "Jandira",
                                    "4": "103578"
                                },
                                {
                                    "0": "SP",
                                    "1": "35",
                                    "2": "25300",
                                    "3": "Jaú",
                                    "4": "125469"
                                },
                                {
                                    "0": "SP",
                                    "1": "35",
                                    "2": "25904",
                                    "3": "Jundiaí *",
                                    "4": "342983"
                                },
                                {
                                    "0": "SP",
                                    "1": "35",
                                    "2": "26902",
                                    "3": "Limeira *",
                                    "4": "272734"
                                },
                                {
                                    "0": "SP",
                                    "1": "35",
                                    "2": "29005",
                                    "3": "Marília *",
                                    "4": "218113"
                                },
                                {
                                    "0": "SP",
                                    "1": "35",
                                    "2": "29401",
                                    "3": "Mauá *",
                                    "4": "402643"
                                },
                                {
                                    "0": "SP",
                                    "1": "35",
                                    "2": "30607",
                                    "3": "Mogi das Cruzes *",
                                    "4": "362991"
                                },
                                {
                                    "0": "SP",
                                    "1": "35",
                                    "2": "30706",
                                    "3": "Mogi Guaçu",
                                    "4": "131870"
                                },
                                {
                                    "0": "SP",
                                    "1": "35",
                                    "2": "34401",
                                    "3": "Osasco *",
                                    "4": "701012"
                                },
                                {
                                    "0": "SP",
                                    "1": "35",
                                    "2": "38006",
                                    "3": "Pindamonhangaba",
                                    "4": "135682"
                                },
                                {
                                    "0": "SP",
                                    "1": "35",
                                    "2": "38709",
                                    "3": "Piracicaba *",
                                    "4": "358108"
                                },
                                {
                                    "0": "SP",
                                    "1": "35",
                                    "2": "39806",
                                    "3": "Poá",
                                    "4": "104904"
                                },
                                {
                                    "0": "SP",
                                    "1": "35",
                                    "2": "41000",
                                    "3": "Praia Grande *",
                                    "4": "233806"
                                },
                                {
                                    "0": "SP",
                                    "1": "35",
                                    "2": "41406",
                                    "3": "Presidente Prudente *",
                                    "4": "202789"
                                },
                                {
                                    "0": "SP",
                                    "1": "35",
                                    "2": "43303",
                                    "3": "Ribeirão Pires",
                                    "4": "107046"
                                },
                                {
                                    "0": "SP",
                                    "1": "35",
                                    "2": "43402",
                                    "3": "Ribeirão Preto *",
                                    "4": "547417"
                                },
                                {
                                    "0": "SP",
                                    "1": "35",
                                    "2": "43907",
                                    "3": "Rio Claro *",
                                    "4": "185421"
                                },
                                {
                                    "0": "SP",
                                    "1": "35",
                                    "2": "45209",
                                    "3": "Salto",
                                    "4": "102311"
                                },
                                {
                                    "0": "SP",
                                    "1": "35",
                                    "2": "45803",
                                    "3": "Santa Bárbara d Oeste *",
                                    "4": "184318"
                                },
                                {
                                    "0": "SP",
                                    "1": "35",
                                    "2": "47304",
                                    "3": "Santana de Parnaíba",
                                    "4": "100189"
                                },
                                {
                                    "0": "SP",
                                    "1": "35",
                                    "2": "47809",
                                    "3": "Santo André *",
                                    "4": "667891"
                                },
                                {
                                    "0": "SP",
                                    "1": "35",
                                    "2": "48500",
                                    "3": "Santos *",
                                    "4": "418288"
                                },
                                {
                                    "0": "SP",
                                    "1": "35",
                                    "2": "48708",
                                    "3": "São Bernardo do Campo *",
                                    "4": "781390"
                                },
                                {
                                    "0": "SP",
                                    "1": "35",
                                    "2": "48807",
                                    "3": "São Caetano do Sul",
                                    "4": "144857"
                                },
                                {
                                    "0": "SP",
                                    "1": "35",
                                    "2": "48906",
                                    "3": "São Carlos *",
                                    "4": "212956"
                                },
                                {
                                    "0": "SP",
                                    "1": "35",
                                    "2": "49805",
                                    "3": "São José do Rio Preto *",
                                    "4": "402770"
                                },
                                {
                                    "0": "SP",
                                    "1": "35",
                                    "2": "49904",
                                    "3": "São José dos Campos *",
                                    "4": "594948"
                                },
                                {
                                    "0": "SP",
                                    "1": "35",
                                    "2": "50308",
                                    "3": "São Paulo *",
                                    "4": "10886518"
                                },
                                {
                                    "0": "SP",
                                    "1": "35",
                                    "2": "51009",
                                    "3": "São Vicente *",
                                    "4": "323599"
                                },
                                {
                                    "0": "SP",
                                    "1": "35",
                                    "2": "51702",
                                    "3": "Sertãozinho",
                                    "4": "103558"
                                },
                                {
                                    "0": "SP",
                                    "1": "35",
                                    "2": "52205",
                                    "3": "Sorocaba *",
                                    "4": "559157"
                                },
                                {
                                    "0": "SP",
                                    "1": "35",
                                    "2": "52403",
                                    "3": "Sumaré *",
                                    "4": "228696"
                                },
                                {
                                    "0": "SP",
                                    "1": "35",
                                    "2": "52502",
                                    "3": "Suzano *",
                                    "4": "268777"
                                },
                                {
                                    "0": "SP",
                                    "1": "35",
                                    "2": "52809",
                                    "3": "Taboão da Serra *",
                                    "4": "219200"
                                },
                                {
                                    "0": "SP",
                                    "1": "35",
                                    "2": "54003",
                                    "3": "Tatuí",
                                    "4": "101838"
                                },
                                {
                                    "0": "SP",
                                    "1": "35",
                                    "2": "54102",
                                    "3": "Taubaté *",
                                    "4": "265514"
                                },
                                {
                                    "0": "SP",
                                    "1": "35",
                                    "2": "56503",
                                    "3": "Várzea Paulista",
                                    "4": "100406"
                                }
                            ]
                        },
                        "text/html": [
                            "<table>",
                            "<tr><th>uf</th><th>cod_uf</th><th>cod_mun</th><th>nome_mun</th><th>populacao</th></tr>",
                            "<tr><td>SP</td><td>35</td><td>01608</td><td>Americana *</td><td>199094</td></tr>",
                            "<tr><td>SP</td><td>35</td><td>02804</td><td>Araçatuba *</td><td>178839</td></tr>",
                            "<tr><td>SP</td><td>35</td><td>03208</td><td>Araraquara *</td><td>195815</td></tr>",
                            "<tr><td>SP</td><td>35</td><td>03307</td><td>Araras</td><td>108689</td></tr>",
                            "<tr><td>SP</td><td>35</td><td>04107</td><td>Atibaia</td><td>119166</td></tr>",
                            "<tr><td>SP</td><td>35</td><td>05500</td><td>Barretos</td><td>107988</td></tr>",
                            "<tr><td>SP</td><td>35</td><td>05708</td><td>Barueri *</td><td>252748</td></tr>",
                            "<tr><td>SP</td><td>35</td><td>06003</td><td>Bauru *</td><td>347601</td></tr>",
                            "<tr><td>SP</td><td>35</td><td>06508</td><td>Birigui</td><td>103394</td></tr>",
                            "<tr><td>SP</td><td>35</td><td>07506</td><td>Botucatu</td><td>120800</td></tr>",
                            "<tr><td>SP</td><td>35</td><td>07605</td><td>Bragança Paulista</td><td>136286</td></tr>",
                            "<tr><td>SP</td><td>35</td><td>09502</td><td>Campinas *</td><td>1039297</td></tr>",
                            "<tr><td>SP</td><td>35</td><td>10609</td><td>Carapicuíba *</td><td>379566</td></tr>",
                            "<tr><td>SP</td><td>35</td><td>11102</td><td>Catanduva</td><td>109362</td></tr>",
                            "<tr><td>SP</td><td>35</td><td>13009</td><td>Cotia *</td><td>172823</td></tr>",
                            "<tr><td>SP</td><td>35</td><td>13504</td><td>Cubatão</td><td>120271</td></tr>",
                            "<tr><td>SP</td><td>35</td><td>13801</td><td>Diadema *</td><td>386779</td></tr>",
                            "<tr><td>SP</td><td>35</td><td>15004</td><td>Embu *</td><td>237318</td></tr>",
                            "<tr><td>SP</td><td>35</td><td>15707</td><td>Ferraz de Vasconcelos *</td><td>168897</td></tr>",
                            "<tr><td>SP</td><td>35</td><td>16200</td><td>Franca *</td><td>319094</td></tr>",
                            "<tr><td>SP</td><td>35</td><td>16309</td><td>Francisco Morato</td><td>146634</td></tr>",
                            "<tr><td>SP</td><td>35</td><td>16408</td><td>Franco da Rocha</td><td>121451</td></tr>",
                            "<tr><td>SP</td><td>35</td><td>18404</td><td>Guaratinguetá</td><td>107895</td></tr>",
                            "<tr><td>SP</td><td>35</td><td>18701</td><td>Guarujá *</td><td>296150</td></tr>",
                            "<tr><td>SP</td><td>35</td><td>18800</td><td>Guarulhos *</td><td>1236192</td></tr>",
                            "<tr><td>SP</td><td>35</td><td>19071</td><td>Hortolândia *</td><td>190781</td></tr>",
                            "<tr><td>SP</td><td>35</td><td>20509</td><td>Indaiatuba *</td><td>173508</td></tr>",
                            "<tr><td>SP</td><td>35</td><td>22208</td><td>Itapecerica da Serra</td><td>148728</td></tr>",
                            "<tr><td>SP</td><td>35</td><td>22307</td><td>Itapetininga</td><td>138450</td></tr>",
                            "<tr><td>SP</td><td>35</td><td>22505</td><td>Itapevi *</td><td>193686</td></tr>",
                            "<tr><td>SP</td><td>35</td><td>23107</td><td>Itaquaquecetuba *</td><td>334914</td></tr>",
                            "<tr><td>SP</td><td>35</td><td>23909</td><td>Itu</td><td>147251</td></tr>",
                            "<tr><td>SP</td><td>35</td><td>24402</td><td>Jacareí *</td><td>207028</td></tr>",
                            "<tr><td>SP</td><td>35</td><td>25003</td><td>Jandira</td><td>103578</td></tr>",
                            "<tr><td>SP</td><td>35</td><td>25300</td><td>Jaú</td><td>125469</td></tr>",
                            "<tr><td>SP</td><td>35</td><td>25904</td><td>Jundiaí *</td><td>342983</td></tr>",
                            "<tr><td>SP</td><td>35</td><td>26902</td><td>Limeira *</td><td>272734</td></tr>",
                            "<tr><td>SP</td><td>35</td><td>29005</td><td>Marília *</td><td>218113</td></tr>",
                            "<tr><td>SP</td><td>35</td><td>29401</td><td>Mauá *</td><td>402643</td></tr>",
                            "<tr><td>SP</td><td>35</td><td>30607</td><td>Mogi das Cruzes *</td><td>362991</td></tr>",
                            "<tr><td>SP</td><td>35</td><td>30706</td><td>Mogi Guaçu</td><td>131870</td></tr>",
                            "<tr><td>SP</td><td>35</td><td>34401</td><td>Osasco *</td><td>701012</td></tr>",
                            "<tr><td>SP</td><td>35</td><td>38006</td><td>Pindamonhangaba</td><td>135682</td></tr>",
                            "<tr><td>SP</td><td>35</td><td>38709</td><td>Piracicaba *</td><td>358108</td></tr>",
                            "<tr><td>SP</td><td>35</td><td>39806</td><td>Poá</td><td>104904</td></tr>",
                            "<tr><td>SP</td><td>35</td><td>41000</td><td>Praia Grande *</td><td>233806</td></tr>",
                            "<tr><td>SP</td><td>35</td><td>41406</td><td>Presidente Prudente *</td><td>202789</td></tr>",
                            "<tr><td>SP</td><td>35</td><td>43303</td><td>Ribeirão Pires</td><td>107046</td></tr>",
                            "<tr><td>SP</td><td>35</td><td>43402</td><td>Ribeirão Preto *</td><td>547417</td></tr>",
                            "<tr><td>SP</td><td>35</td><td>43907</td><td>Rio Claro *</td><td>185421</td></tr>",
                            "<tr><td>SP</td><td>35</td><td>45209</td><td>Salto</td><td>102311</td></tr>",
                            "<tr><td>SP</td><td>35</td><td>45803</td><td>Santa Bárbara d Oeste *</td><td>184318</td></tr>",
                            "<tr><td>SP</td><td>35</td><td>47304</td><td>Santana de Parnaíba</td><td>100189</td></tr>",
                            "<tr><td>SP</td><td>35</td><td>47809</td><td>Santo André *</td><td>667891</td></tr>",
                            "<tr><td>SP</td><td>35</td><td>48500</td><td>Santos *</td><td>418288</td></tr>",
                            "<tr><td>SP</td><td>35</td><td>48708</td><td>São Bernardo do Campo *</td><td>781390</td></tr>",
                            "<tr><td>SP</td><td>35</td><td>48807</td><td>São Caetano do Sul</td><td>144857</td></tr>",
                            "<tr><td>SP</td><td>35</td><td>48906</td><td>São Carlos *</td><td>212956</td></tr>",
                            "<tr><td>SP</td><td>35</td><td>49805</td><td>São José do Rio Preto *</td><td>402770</td></tr>",
                            "<tr><td>SP</td><td>35</td><td>49904</td><td>São José dos Campos *</td><td>594948</td></tr>",
                            "<tr><td>SP</td><td>35</td><td>50308</td><td>São Paulo *</td><td>10886518</td></tr>",
                            "<tr><td>SP</td><td>35</td><td>51009</td><td>São Vicente *</td><td>323599</td></tr>",
                            "<tr><td>SP</td><td>35</td><td>51702</td><td>Sertãozinho</td><td>103558</td></tr>",
                            "<tr><td>SP</td><td>35</td><td>52205</td><td>Sorocaba *</td><td>559157</td></tr>",
                            "<tr><td>SP</td><td>35</td><td>52403</td><td>Sumaré *</td><td>228696</td></tr>",
                            "<tr><td>SP</td><td>35</td><td>52502</td><td>Suzano *</td><td>268777</td></tr>",
                            "<tr><td>SP</td><td>35</td><td>52809</td><td>Taboão da Serra *</td><td>219200</td></tr>",
                            "<tr><td>SP</td><td>35</td><td>54003</td><td>Tatuí</td><td>101838</td></tr>",
                            "<tr><td>SP</td><td>35</td><td>54102</td><td>Taubaté *</td><td>265514</td></tr>",
                            "<tr><td>SP</td><td>35</td><td>56503</td><td>Várzea Paulista</td><td>100406</td></tr>",
                            "</table>"
                        ]
                    }
                }
            ],
            "execution_count": 2
        },
        {
            "cell_type": "code",
            "source": [
                "-- Cidades com mais de 2m de pessoas\r\n",
                "SELECT * FROM cidades\r\n",
                "WHERE populacao > 2000000"
            ],
            "metadata": {
                "azdata_cell_guid": "5354058e-9476-4fa0-91eb-61f471fc64c0"
            },
            "outputs": [
                {
                    "output_type": "display_data",
                    "data": {
                        "text/html": "(6 rows affected)"
                    },
                    "metadata": {}
                },
                {
                    "output_type": "display_data",
                    "data": {
                        "text/html": "Total execution time: 00:00:00.014"
                    },
                    "metadata": {}
                },
                {
                    "output_type": "execute_result",
                    "metadata": {},
                    "execution_count": 4,
                    "data": {
                        "application/vnd.dataresource+json": {
                            "schema": {
                                "fields": [
                                    {
                                        "name": "uf"
                                    },
                                    {
                                        "name": "cod_uf"
                                    },
                                    {
                                        "name": "cod_mun"
                                    },
                                    {
                                        "name": "nome_mun"
                                    },
                                    {
                                        "name": "populacao"
                                    }
                                ]
                            },
                            "data": [
                                {
                                    "0": "CE",
                                    "1": "23",
                                    "2": "04400",
                                    "3": "Fortaleza *",
                                    "4": "2431415"
                                },
                                {
                                    "0": "BA",
                                    "1": "29",
                                    "2": "27408",
                                    "3": "Salvador *",
                                    "4": "2892625"
                                },
                                {
                                    "0": "MG",
                                    "1": "31",
                                    "2": "06200",
                                    "3": "Belo Horizonte *",
                                    "4": "2412937"
                                },
                                {
                                    "0": "RJ",
                                    "1": "33",
                                    "2": "04557",
                                    "3": "Rio de Janeiro *",
                                    "4": "6093472"
                                },
                                {
                                    "0": "SP",
                                    "1": "35",
                                    "2": "50308",
                                    "3": "São Paulo *",
                                    "4": "10886518"
                                },
                                {
                                    "0": "DF",
                                    "1": "53",
                                    "2": "00108",
                                    "3": "Brasília *",
                                    "4": "2455903"
                                }
                            ]
                        },
                        "text/html": [
                            "<table>",
                            "<tr><th>uf</th><th>cod_uf</th><th>cod_mun</th><th>nome_mun</th><th>populacao</th></tr>",
                            "<tr><td>CE</td><td>23</td><td>04400</td><td>Fortaleza *</td><td>2431415</td></tr>",
                            "<tr><td>BA</td><td>29</td><td>27408</td><td>Salvador *</td><td>2892625</td></tr>",
                            "<tr><td>MG</td><td>31</td><td>06200</td><td>Belo Horizonte *</td><td>2412937</td></tr>",
                            "<tr><td>RJ</td><td>33</td><td>04557</td><td>Rio de Janeiro *</td><td>6093472</td></tr>",
                            "<tr><td>SP</td><td>35</td><td>50308</td><td>São Paulo *</td><td>10886518</td></tr>",
                            "<tr><td>DF</td><td>53</td><td>00108</td><td>Brasília *</td><td>2455903</td></tr>",
                            "</table>"
                        ]
                    }
                }
            ],
            "execution_count": 4
        },
        {
            "cell_type": "code",
            "source": [
                "SELECT * FROM cidades\r\n",
                "WHERE uf = 'RS'\r\n",
                "AND nome_mun = 'São Leopoldo *'"
            ],
            "metadata": {
                "azdata_cell_guid": "258bc205-bc91-4c72-84e6-9106ca750e24"
            },
            "outputs": [
                {
                    "output_type": "display_data",
                    "data": {
                        "text/html": "(1 row affected)"
                    },
                    "metadata": {}
                },
                {
                    "output_type": "display_data",
                    "data": {
                        "text/html": "Total execution time: 00:00:00.013"
                    },
                    "metadata": {}
                },
                {
                    "output_type": "execute_result",
                    "metadata": {},
                    "execution_count": 9,
                    "data": {
                        "application/vnd.dataresource+json": {
                            "schema": {
                                "fields": [
                                    {
                                        "name": "uf"
                                    },
                                    {
                                        "name": "cod_uf"
                                    },
                                    {
                                        "name": "cod_mun"
                                    },
                                    {
                                        "name": "nome_mun"
                                    },
                                    {
                                        "name": "populacao"
                                    }
                                ]
                            },
                            "data": [
                                {
                                    "0": "RS",
                                    "1": "43",
                                    "2": "18705",
                                    "3": "São Leopoldo *",
                                    "4": "207721"
                                }
                            ]
                        },
                        "text/html": [
                            "<table>",
                            "<tr><th>uf</th><th>cod_uf</th><th>cod_mun</th><th>nome_mun</th><th>populacao</th></tr>",
                            "<tr><td>RS</td><td>43</td><td>18705</td><td>São Leopoldo *</td><td>207721</td></tr>",
                            "</table>"
                        ]
                    }
                }
            ],
            "execution_count": 9
        }
    ]
}