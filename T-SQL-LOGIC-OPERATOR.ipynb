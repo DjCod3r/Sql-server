{
    "metadata": {
        "kernelspec": {
            "name": "SQL",
            "display_name": "SQL",
            "language": "sql"
        },
        "language_info": {
            "name": "sql",
            "version": ""
        },
        "extensions": {
            "azuredatastudio": {
                "version": 1,
                "views": []
            }
        }
    },
    "nbformat_minor": 2,
    "nbformat": 4,
    "cells": [
        {
            "cell_type": "code",
            "source": [
                "use NORTHWND"
            ],
            "metadata": {
                "azdata_cell_guid": "37f69145-ff75-4928-9511-95ab790077f3"
            },
            "outputs": [
                {
                    "output_type": "display_data",
                    "data": {
                        "text/html": "Commands completed successfully."
                    },
                    "metadata": {}
                },
                {
                    "output_type": "display_data",
                    "data": {
                        "text/html": "Total execution time: 00:00:00.001"
                    },
                    "metadata": {}
                }
            ],
            "execution_count": 2
        },
        {
            "cell_type": "code",
            "source": [
                "SELECT * FROM\r\n",
                "Customers\r\n",
                "WHERE Country = 'Brazil'"
            ],
            "metadata": {
                "azdata_cell_guid": "89831b05-98c1-4a57-96f8-ba6d60283517"
            },
            "outputs": [
                {
                    "output_type": "display_data",
                    "data": {
                        "text/html": "(9 rows affected)"
                    },
                    "metadata": {}
                },
                {
                    "output_type": "display_data",
                    "data": {
                        "text/html": "Total execution time: 00:00:00.125"
                    },
                    "metadata": {}
                },
                {
                    "output_type": "execute_result",
                    "metadata": {},
                    "execution_count": 3,
                    "data": {
                        "application/vnd.dataresource+json": {
                            "schema": {
                                "fields": [
                                    {
                                        "name": "CustomerID"
                                    },
                                    {
                                        "name": "CompanyName"
                                    },
                                    {
                                        "name": "ContactName"
                                    },
                                    {
                                        "name": "ContactTitle"
                                    },
                                    {
                                        "name": "Address"
                                    },
                                    {
                                        "name": "City"
                                    },
                                    {
                                        "name": "Region"
                                    },
                                    {
                                        "name": "PostalCode"
                                    },
                                    {
                                        "name": "Country"
                                    },
                                    {
                                        "name": "Phone"
                                    },
                                    {
                                        "name": "Fax"
                                    }
                                ]
                            },
                            "data": [
                                {
                                    "0": "COMMI",
                                    "1": "Comércio Mineiro",
                                    "2": "Pedro Afonso",
                                    "3": "Sales Associate",
                                    "4": "Av. dos Lusíadas, 23",
                                    "5": "Sao Paulo",
                                    "6": "SP",
                                    "7": "05432-043",
                                    "8": "Brazil",
                                    "9": "(11) 555-7647",
                                    "10": "NULL"
                                },
                                {
                                    "0": "FAMIA",
                                    "1": "Familia Arquibaldo",
                                    "2": "Aria Cruz",
                                    "3": "Marketing Assistant",
                                    "4": "Rua Orós, 92",
                                    "5": "Sao Paulo",
                                    "6": "SP",
                                    "7": "05442-030",
                                    "8": "Brazil",
                                    "9": "(11) 555-9857",
                                    "10": "NULL"
                                },
                                {
                                    "0": "GOURL",
                                    "1": "Gourmet Lanchonetes",
                                    "2": "André Fonseca",
                                    "3": "Sales Associate",
                                    "4": "Av. Brasil, 442",
                                    "5": "Campinas",
                                    "6": "SP",
                                    "7": "04876-786",
                                    "8": "Brazil",
                                    "9": "(11) 555-9482",
                                    "10": "NULL"
                                },
                                {
                                    "0": "HANAR",
                                    "1": "Hanari Carnes",
                                    "2": "Mario Pontes",
                                    "3": "Accounting Manager",
                                    "4": "Rua do Paço, 67",
                                    "5": "Rio de Janeiro",
                                    "6": "RJ",
                                    "7": "05454-876",
                                    "8": "Brazil",
                                    "9": "(21) 555-0091",
                                    "10": "(21) 555-8765"
                                },
                                {
                                    "0": "QUEDE",
                                    "1": "Que Delícia",
                                    "2": "Bernardo Batista",
                                    "3": "Accounting Manager",
                                    "4": "Rua da Panificadora, 12",
                                    "5": "Rio de Janeiro",
                                    "6": "RJ",
                                    "7": "02389-673",
                                    "8": "Brazil",
                                    "9": "(21) 555-4252",
                                    "10": "(21) 555-4545"
                                },
                                {
                                    "0": "QUEEN",
                                    "1": "Queen Cozinha",
                                    "2": "Lúcia Carvalho",
                                    "3": "Marketing Assistant",
                                    "4": "Alameda dos Canàrios, 891",
                                    "5": "Sao Paulo",
                                    "6": "SP",
                                    "7": "05487-020",
                                    "8": "Brazil",
                                    "9": "(11) 555-1189",
                                    "10": "NULL"
                                },
                                {
                                    "0": "RICAR",
                                    "1": "Ricardo Adocicados",
                                    "2": "Janete Limeira",
                                    "3": "Assistant Sales Agent",
                                    "4": "Av. Copacabana, 267",
                                    "5": "Rio de Janeiro",
                                    "6": "RJ",
                                    "7": "02389-890",
                                    "8": "Brazil",
                                    "9": "(21) 555-3412",
                                    "10": "NULL"
                                },
                                {
                                    "0": "TRADH",
                                    "1": "Tradição Hipermercados",
                                    "2": "Anabela Domingues",
                                    "3": "Sales Representative",
                                    "4": "Av. Inês de Castro, 414",
                                    "5": "Sao Paulo",
                                    "6": "SP",
                                    "7": "05634-030",
                                    "8": "Brazil",
                                    "9": "(11) 555-2167",
                                    "10": "(11) 555-2168"
                                },
                                {
                                    "0": "WELLI",
                                    "1": "Wellington Importadora",
                                    "2": "Paula Parente",
                                    "3": "Sales Manager",
                                    "4": "Rua do Mercado, 12",
                                    "5": "Resende",
                                    "6": "SP",
                                    "7": "08737-363",
                                    "8": "Brazil",
                                    "9": "(14) 555-8122",
                                    "10": "NULL"
                                }
                            ]
                        },
                        "text/html": [
                            "<table>",
                            "<tr><th>CustomerID</th><th>CompanyName</th><th>ContactName</th><th>ContactTitle</th><th>Address</th><th>City</th><th>Region</th><th>PostalCode</th><th>Country</th><th>Phone</th><th>Fax</th></tr>",
                            "<tr><td>COMMI</td><td>Comércio Mineiro</td><td>Pedro Afonso</td><td>Sales Associate</td><td>Av. dos Lusíadas, 23</td><td>Sao Paulo</td><td>SP</td><td>05432-043</td><td>Brazil</td><td>(11) 555-7647</td><td>NULL</td></tr>",
                            "<tr><td>FAMIA</td><td>Familia Arquibaldo</td><td>Aria Cruz</td><td>Marketing Assistant</td><td>Rua Orós, 92</td><td>Sao Paulo</td><td>SP</td><td>05442-030</td><td>Brazil</td><td>(11) 555-9857</td><td>NULL</td></tr>",
                            "<tr><td>GOURL</td><td>Gourmet Lanchonetes</td><td>André Fonseca</td><td>Sales Associate</td><td>Av. Brasil, 442</td><td>Campinas</td><td>SP</td><td>04876-786</td><td>Brazil</td><td>(11) 555-9482</td><td>NULL</td></tr>",
                            "<tr><td>HANAR</td><td>Hanari Carnes</td><td>Mario Pontes</td><td>Accounting Manager</td><td>Rua do Paço, 67</td><td>Rio de Janeiro</td><td>RJ</td><td>05454-876</td><td>Brazil</td><td>(21) 555-0091</td><td>(21) 555-8765</td></tr>",
                            "<tr><td>QUEDE</td><td>Que Delícia</td><td>Bernardo Batista</td><td>Accounting Manager</td><td>Rua da Panificadora, 12</td><td>Rio de Janeiro</td><td>RJ</td><td>02389-673</td><td>Brazil</td><td>(21) 555-4252</td><td>(21) 555-4545</td></tr>",
                            "<tr><td>QUEEN</td><td>Queen Cozinha</td><td>Lúcia Carvalho</td><td>Marketing Assistant</td><td>Alameda dos Canàrios, 891</td><td>Sao Paulo</td><td>SP</td><td>05487-020</td><td>Brazil</td><td>(11) 555-1189</td><td>NULL</td></tr>",
                            "<tr><td>RICAR</td><td>Ricardo Adocicados</td><td>Janete Limeira</td><td>Assistant Sales Agent</td><td>Av. Copacabana, 267</td><td>Rio de Janeiro</td><td>RJ</td><td>02389-890</td><td>Brazil</td><td>(21) 555-3412</td><td>NULL</td></tr>",
                            "<tr><td>TRADH</td><td>Tradição Hipermercados</td><td>Anabela Domingues</td><td>Sales Representative</td><td>Av. Inês de Castro, 414</td><td>Sao Paulo</td><td>SP</td><td>05634-030</td><td>Brazil</td><td>(11) 555-2167</td><td>(11) 555-2168</td></tr>",
                            "<tr><td>WELLI</td><td>Wellington Importadora</td><td>Paula Parente</td><td>Sales Manager</td><td>Rua do Mercado, 12</td><td>Resende</td><td>SP</td><td>08737-363</td><td>Brazil</td><td>(14) 555-8122</td><td>NULL</td></tr>",
                            "</table>"
                        ]
                    }
                }
            ],
            "execution_count": 3
        },
        {
            "cell_type": "code",
            "source": [
                "use AdventureWorks2014\r\n",
                "SELECT *\r\n",
                "FROM HumanResources.Employee\r\n",
                "WHERE VacationHours > 90\r\n",
                ""
            ],
            "metadata": {
                "azdata_cell_guid": "b2c75f6b-d278-4179-87c6-4b62942acc09"
            },
            "outputs": [
                {
                    "output_type": "display_data",
                    "data": {
                        "text/html": "(27 rows affected)"
                    },
                    "metadata": {}
                },
                {
                    "output_type": "display_data",
                    "data": {
                        "text/html": "Total execution time: 00:00:00.023"
                    },
                    "metadata": {}
                },
                {
                    "output_type": "execute_result",
                    "metadata": {},
                    "execution_count": 14,
                    "data": {
                        "application/vnd.dataresource+json": {
                            "schema": {
                                "fields": [
                                    {
                                        "name": "BusinessEntityID"
                                    },
                                    {
                                        "name": "NationalIDNumber"
                                    },
                                    {
                                        "name": "LoginID"
                                    },
                                    {
                                        "name": "OrganizationNode"
                                    },
                                    {
                                        "name": "OrganizationLevel"
                                    },
                                    {
                                        "name": "JobTitle"
                                    },
                                    {
                                        "name": "BirthDate"
                                    },
                                    {
                                        "name": "MaritalStatus"
                                    },
                                    {
                                        "name": "Gender"
                                    },
                                    {
                                        "name": "HireDate"
                                    },
                                    {
                                        "name": "SalariedFlag"
                                    },
                                    {
                                        "name": "VacationHours"
                                    },
                                    {
                                        "name": "SickLeaveHours"
                                    },
                                    {
                                        "name": "CurrentFlag"
                                    },
                                    {
                                        "name": "rowguid"
                                    },
                                    {
                                        "name": "ModifiedDate"
                                    }
                                ]
                            },
                            "data": [
                                {
                                    "0": "1",
                                    "1": "295847284",
                                    "2": "adventure-works\\ken0",
                                    "3": "NULL",
                                    "4": "NULL",
                                    "5": "Chief Executive Officer",
                                    "6": "1969-01-29",
                                    "7": "S",
                                    "8": "M",
                                    "9": "2009-01-14",
                                    "10": "1",
                                    "11": "99",
                                    "12": "69",
                                    "13": "1",
                                    "14": "f01251e5-96a3-448d-981e-0f99d789110d",
                                    "15": "2014-06-30 00:00:00.000"
                                },
                                {
                                    "0": "88",
                                    "1": "294148271",
                                    "2": "adventure-works\\betsy0",
                                    "3": "0x7AE8AC",
                                    "4": "4",
                                    "5": "Production Technician - WC10",
                                    "6": "1966-12-17",
                                    "7": "S",
                                    "8": "F",
                                    "9": "2009-12-18",
                                    "10": "0",
                                    "11": "99",
                                    "12": "69",
                                    "13": "1",
                                    "14": "ebcdba1c-6c1d-4d36-90f7-1893755c85e3",
                                    "15": "2014-06-30 00:00:00.000"
                                },
                                {
                                    "0": "89",
                                    "1": "90888098",
                                    "2": "adventure-works\\patrick0",
                                    "3": "0x7AE8B4",
                                    "4": "4",
                                    "5": "Production Technician - WC10",
                                    "6": "1986-09-10",
                                    "7": "S",
                                    "8": "M",
                                    "9": "2010-02-01",
                                    "10": "0",
                                    "11": "96",
                                    "12": "68",
                                    "13": "1",
                                    "14": "d5fbe9e6-b8c5-484c-b4b8-48059e0ef267",
                                    "15": "2014-06-30 00:00:00.000"
                                },
                                {
                                    "0": "90",
                                    "1": "82638150",
                                    "2": "adventure-works\\danielle0",
                                    "3": "0x7AE8BC",
                                    "4": "4",
                                    "5": "Production Technician - WC10",
                                    "6": "1986-09-07",
                                    "7": "S",
                                    "8": "F",
                                    "9": "2010-02-20",
                                    "10": "0",
                                    "11": "97",
                                    "12": "68",
                                    "13": "1",
                                    "14": "bb886159-1400-4264-b7c9-a3769beb1274",
                                    "15": "2014-06-30 00:00:00.000"
                                },
                                {
                                    "0": "91",
                                    "1": "390124815",
                                    "2": "adventure-works\\kimberly0",
                                    "3": "0x7AE8C2",
                                    "4": "4",
                                    "5": "Production Technician - WC10",
                                    "6": "1986-09-13",
                                    "7": "S",
                                    "8": "F",
                                    "9": "2010-01-12",
                                    "10": "0",
                                    "11": "95",
                                    "12": "67",
                                    "13": "1",
                                    "14": "ce256b6c-1eee-43ed-9969-7cac480ff4d7",
                                    "15": "2014-06-30 00:00:00.000"
                                },
                                {
                                    "0": "92",
                                    "1": "826454897",
                                    "2": "adventure-works\\tom0",
                                    "3": "0x7AE8C6",
                                    "4": "4",
                                    "5": "Production Technician - WC10",
                                    "6": "1986-10-01",
                                    "7": "M",
                                    "8": "M",
                                    "9": "2010-03-10",
                                    "10": "0",
                                    "11": "98",
                                    "12": "69",
                                    "13": "1",
                                    "14": "b3bf7fc5-2014-48ce-b7bb-76124fa8446c",
                                    "15": "2014-06-30 00:00:00.000"
                                },
                                {
                                    "0": "103",
                                    "1": "455563743",
                                    "2": "adventure-works\\ebru0",
                                    "3": "0x7AEAAC",
                                    "4": "4",
                                    "5": "Production Technician - WC10",
                                    "6": "1986-09-22",
                                    "7": "S",
                                    "8": "M",
                                    "9": "2009-12-06",
                                    "10": "0",
                                    "11": "93",
                                    "12": "66",
                                    "13": "1",
                                    "14": "6c25a32b-88b5-4f84-a129-f7f688dfa588",
                                    "15": "2014-06-30 00:00:00.000"
                                },
                                {
                                    "0": "104",
                                    "1": "717889520",
                                    "2": "adventure-works\\mary1",
                                    "3": "0x7AEAB4",
                                    "4": "4",
                                    "5": "Production Technician - WC10",
                                    "6": "1986-09-19",
                                    "7": "M",
                                    "8": "F",
                                    "9": "2009-12-25",
                                    "10": "0",
                                    "11": "94",
                                    "12": "67",
                                    "13": "1",
                                    "14": "6dc9f7d0-5664-4e4a-90f5-7ab85ebb02e6",
                                    "15": "2014-06-30 00:00:00.000"
                                },
                                {
                                    "0": "106",
                                    "1": "561196580",
                                    "2": "adventure-works\\john4",
                                    "3": "0x7AEAC2",
                                    "4": "4",
                                    "5": "Production Technician - WC10",
                                    "6": "1986-09-28",
                                    "7": "S",
                                    "8": "M",
                                    "9": "2010-02-27",
                                    "10": "0",
                                    "11": "92",
                                    "12": "66",
                                    "13": "1",
                                    "14": "d4cf23d9-21b6-45e4-827c-22890df0373b",
                                    "15": "2014-06-30 00:00:00.000"
                                },
                                {
                                    "0": "107",
                                    "1": "393421437",
                                    "2": "adventure-works\\christopher0",
                                    "3": "0x7AEAC6",
                                    "4": "4",
                                    "5": "Production Technician - WC10",
                                    "6": "1986-10-01",
                                    "7": "M",
                                    "8": "M",
                                    "9": "2010-02-08",
                                    "10": "0",
                                    "11": "91",
                                    "12": "65",
                                    "13": "1",
                                    "14": "f71c6055-557b-4660-86ff-8c0fa14b24e6",
                                    "15": "2014-06-30 00:00:00.000"
                                },
                                {
                                    "0": "109",
                                    "1": "113695504",
                                    "2": "adventure-works\\alice0",
                                    "3": "0x7AEBAC",
                                    "4": "4",
                                    "5": "Production Technician - WC50",
                                    "6": "1978-01-26",
                                    "7": "M",
                                    "8": "F",
                                    "9": "2008-12-07",
                                    "10": "0",
                                    "11": "95",
                                    "12": "67",
                                    "13": "1",
                                    "14": "7e632b21-0d11-4bba-8a68-8cae14c20ae6",
                                    "15": "2014-06-30 00:00:00.000"
                                },
                                {
                                    "0": "111",
                                    "1": "415823523",
                                    "2": "adventure-works\\suroor0",
                                    "3": "0x7AEBBC",
                                    "4": "4",
                                    "5": "Production Technician - WC50",
                                    "6": "1978-02-25",
                                    "7": "S",
                                    "8": "M",
                                    "9": "2008-12-17",
                                    "10": "0",
                                    "11": "93",
                                    "12": "66",
                                    "13": "1",
                                    "14": "14010b0e-c101-4e41-b788-21923399e512",
                                    "15": "2014-06-30 00:00:00.000"
                                },
                                {
                                    "0": "112",
                                    "1": "981597097",
                                    "2": "adventure-works\\john1",
                                    "3": "0x7AEBC2",
                                    "4": "4",
                                    "5": "Production Technician - WC50",
                                    "6": "1978-05-31",
                                    "7": "S",
                                    "8": "M",
                                    "9": "2009-01-01",
                                    "10": "0",
                                    "11": "91",
                                    "12": "65",
                                    "13": "1",
                                    "14": "b6998410-ee0f-4307-9e6e-fe348f11012d",
                                    "15": "2014-06-30 00:00:00.000"
                                },
                                {
                                    "0": "113",
                                    "1": "54759846",
                                    "2": "adventure-works\\linda0",
                                    "3": "0x7AEBC6",
                                    "4": "4",
                                    "5": "Production Technician - WC50",
                                    "6": "1987-07-17",
                                    "7": "M",
                                    "8": "F",
                                    "9": "2008-12-25",
                                    "10": "0",
                                    "11": "96",
                                    "12": "68",
                                    "13": "1",
                                    "14": "fb84759c-b687-43b2-8727-125efe0f5e13",
                                    "15": "2014-06-30 00:00:00.000"
                                },
                                {
                                    "0": "114",
                                    "1": "342607223",
                                    "2": "adventure-works\\mindaugas0",
                                    "3": "0x7AEBCA",
                                    "4": "4",
                                    "5": "Production Technician - WC50",
                                    "6": "1978-05-07",
                                    "7": "M",
                                    "8": "M",
                                    "9": "2009-01-13",
                                    "10": "0",
                                    "11": "97",
                                    "12": "68",
                                    "13": "1",
                                    "14": "1d784088-dacb-4185-9f60-3d2db4925ba5",
                                    "15": "2014-06-30 00:00:00.000"
                                },
                                {
                                    "0": "115",
                                    "1": "563680513",
                                    "2": "adventure-works\\angela0",
                                    "3": "0x7AEBCE",
                                    "4": "4",
                                    "5": "Production Technician - WC50",
                                    "6": "1991-05-31",
                                    "7": "S",
                                    "8": "F",
                                    "9": "2009-01-20",
                                    "10": "0",
                                    "11": "92",
                                    "12": "66",
                                    "13": "1",
                                    "14": "4958e1c3-c872-4222-954e-09d2060ea7ef",
                                    "15": "2014-06-30 00:00:00.000"
                                },
                                {
                                    "0": "116",
                                    "1": "398737566",
                                    "2": "adventure-works\\michael2",
                                    "3": "0x7AEBD1",
                                    "4": "4",
                                    "5": "Production Technician - WC50",
                                    "6": "1974-05-03",
                                    "7": "S",
                                    "8": "M",
                                    "9": "2009-01-31",
                                    "10": "0",
                                    "11": "98",
                                    "12": "69",
                                    "13": "1",
                                    "14": "c6eb2566-cf28-4602-9a25-5b91c8728838",
                                    "15": "2014-06-30 00:00:00.000"
                                },
                                {
                                    "0": "117",
                                    "1": "599942664",
                                    "2": "adventure-works\\chad0",
                                    "3": "0x7AEBD3",
                                    "4": "4",
                                    "5": "Production Technician - WC50",
                                    "6": "1990-08-04",
                                    "7": "M",
                                    "8": "M",
                                    "9": "2009-02-18",
                                    "10": "0",
                                    "11": "99",
                                    "12": "69",
                                    "13": "1",
                                    "14": "83a32d4c-4725-478f-9997-91739bb957ba",
                                    "15": "2014-06-30 00:00:00.000"
                                },
                                {
                                    "0": "119",
                                    "1": "334834274",
                                    "2": "adventure-works\\michael4",
                                    "3": "0x7AEBD7",
                                    "4": "4",
                                    "5": "Production Technician - WC50",
                                    "6": "1989-06-15",
                                    "7": "S",
                                    "8": "M",
                                    "9": "2009-02-25",
                                    "10": "0",
                                    "11": "94",
                                    "12": "67",
                                    "13": "1",
                                    "14": "eb27c026-9470-4450-8d5e-1f38a41793b5",
                                    "15": "2014-06-30 00:00:00.000"
                                },
                                {
                                    "0": "121",
                                    "1": "521265716",
                                    "2": "adventure-works\\pilar0",
                                    "3": "0x7AEC80",
                                    "4": "3",
                                    "5": "Shipping and Receiving Supervisor",
                                    "6": "1972-09-09",
                                    "7": "S",
                                    "8": "M",
                                    "9": "2009-01-02",
                                    "10": "1",
                                    "11": "93",
                                    "12": "66",
                                    "13": "1",
                                    "14": "01bcce22-d63a-4c3f-9ba8-d3d5a4c3bd52",
                                    "15": "2014-06-30 00:00:00.000"
                                },
                                {
                                    "0": "122",
                                    "1": "586486572",
                                    "2": "adventure-works\\susan0",
                                    "3": "0x7AECAC",
                                    "4": "4",
                                    "5": "Stocker",
                                    "6": "1978-02-17",
                                    "7": "S",
                                    "8": "F",
                                    "9": "2008-12-07",
                                    "10": "0",
                                    "11": "97",
                                    "12": "68",
                                    "13": "1",
                                    "14": "923ecfd6-e202-429a-9141-6cb183531439",
                                    "15": "2014-06-30 00:00:00.000"
                                },
                                {
                                    "0": "123",
                                    "1": "337752649",
                                    "2": "adventure-works\\vamsi0",
                                    "3": "0x7AECB4",
                                    "4": "4",
                                    "5": "Shipping and Receiving Clerk",
                                    "6": "1977-03-18",
                                    "7": "M",
                                    "8": "M",
                                    "9": "2008-12-07",
                                    "10": "0",
                                    "11": "95",
                                    "12": "67",
                                    "13": "1",
                                    "14": "a8838ab2-99de-415c-8675-d82ebf1c4752",
                                    "15": "2014-06-30 00:00:00.000"
                                },
                                {
                                    "0": "124",
                                    "1": "420776180",
                                    "2": "adventure-works\\kim0",
                                    "3": "0x7AECBC",
                                    "4": "4",
                                    "5": "Stocker",
                                    "6": "1984-04-30",
                                    "7": "S",
                                    "8": "F",
                                    "9": "2008-12-26",
                                    "10": "0",
                                    "11": "98",
                                    "12": "69",
                                    "13": "1",
                                    "14": "6150f197-7923-40d4-84f2-936207d468ab",
                                    "15": "2014-06-30 00:00:00.000"
                                },
                                {
                                    "0": "125",
                                    "1": "584205124",
                                    "2": "adventure-works\\matthias0",
                                    "3": "0x7AECC2",
                                    "4": "4",
                                    "5": "Shipping and Receiving Clerk",
                                    "6": "1973-11-11",
                                    "7": "M",
                                    "8": "M",
                                    "9": "2009-01-20",
                                    "10": "0",
                                    "11": "94",
                                    "12": "67",
                                    "13": "1",
                                    "14": "54ed63dc-c62c-4cc7-89c2-015df49c49a5",
                                    "15": "2014-06-30 00:00:00.000"
                                },
                                {
                                    "0": "126",
                                    "1": "652779496",
                                    "2": "adventure-works\\jimmy0",
                                    "3": "0x7AECC6",
                                    "4": "4",
                                    "5": "Stocker",
                                    "6": "1985-05-04",
                                    "7": "M",
                                    "8": "M",
                                    "9": "2009-02-26",
                                    "10": "0",
                                    "11": "96",
                                    "12": "68",
                                    "13": "1",
                                    "14": "96442787-9520-4955-a457-38afddb6ff13",
                                    "15": "2014-06-30 00:00:00.000"
                                },
                                {
                                    "0": "228",
                                    "1": "553069203",
                                    "2": "adventure-works\\christian0",
                                    "3": "0x7C2B",
                                    "4": "3",
                                    "5": "Maintenance Supervisor",
                                    "6": "1976-01-18",
                                    "7": "M",
                                    "8": "M",
                                    "9": "2008-12-14",
                                    "10": "1",
                                    "11": "92",
                                    "12": "66",
                                    "13": "1",
                                    "14": "4611c7c5-90a0-407f-b054-93bd51533609",
                                    "15": "2014-06-30 00:00:00.000"
                                },
                                {
                                    "0": "231",
                                    "1": "153479919",
                                    "2": "adventure-works\\jo1",
                                    "3": "0x7C2B78",
                                    "4": "4",
                                    "5": "Janitor",
                                    "6": "1954-04-24",
                                    "7": "M",
                                    "8": "F",
                                    "9": "2010-03-07",
                                    "10": "0",
                                    "11": "91",
                                    "12": "65",
                                    "13": "1",
                                    "14": "39af5cca-9b52-41e5-b510-72901d2578f6",
                                    "15": "2014-06-30 00:00:00.000"
                                }
                            ]
                        },
                        "text/html": [
                            "<table>",
                            "<tr><th>BusinessEntityID</th><th>NationalIDNumber</th><th>LoginID</th><th>OrganizationNode</th><th>OrganizationLevel</th><th>JobTitle</th><th>BirthDate</th><th>MaritalStatus</th><th>Gender</th><th>HireDate</th><th>SalariedFlag</th><th>VacationHours</th><th>SickLeaveHours</th><th>CurrentFlag</th><th>rowguid</th><th>ModifiedDate</th></tr>",
                            "<tr><td>1</td><td>295847284</td><td>adventure-works\\ken0</td><td>NULL</td><td>NULL</td><td>Chief Executive Officer</td><td>1969-01-29</td><td>S</td><td>M</td><td>2009-01-14</td><td>1</td><td>99</td><td>69</td><td>1</td><td>f01251e5-96a3-448d-981e-0f99d789110d</td><td>2014-06-30 00:00:00.000</td></tr>",
                            "<tr><td>88</td><td>294148271</td><td>adventure-works\\betsy0</td><td>0x7AE8AC</td><td>4</td><td>Production Technician - WC10</td><td>1966-12-17</td><td>S</td><td>F</td><td>2009-12-18</td><td>0</td><td>99</td><td>69</td><td>1</td><td>ebcdba1c-6c1d-4d36-90f7-1893755c85e3</td><td>2014-06-30 00:00:00.000</td></tr>",
                            "<tr><td>89</td><td>90888098</td><td>adventure-works\\patrick0</td><td>0x7AE8B4</td><td>4</td><td>Production Technician - WC10</td><td>1986-09-10</td><td>S</td><td>M</td><td>2010-02-01</td><td>0</td><td>96</td><td>68</td><td>1</td><td>d5fbe9e6-b8c5-484c-b4b8-48059e0ef267</td><td>2014-06-30 00:00:00.000</td></tr>",
                            "<tr><td>90</td><td>82638150</td><td>adventure-works\\danielle0</td><td>0x7AE8BC</td><td>4</td><td>Production Technician - WC10</td><td>1986-09-07</td><td>S</td><td>F</td><td>2010-02-20</td><td>0</td><td>97</td><td>68</td><td>1</td><td>bb886159-1400-4264-b7c9-a3769beb1274</td><td>2014-06-30 00:00:00.000</td></tr>",
                            "<tr><td>91</td><td>390124815</td><td>adventure-works\\kimberly0</td><td>0x7AE8C2</td><td>4</td><td>Production Technician - WC10</td><td>1986-09-13</td><td>S</td><td>F</td><td>2010-01-12</td><td>0</td><td>95</td><td>67</td><td>1</td><td>ce256b6c-1eee-43ed-9969-7cac480ff4d7</td><td>2014-06-30 00:00:00.000</td></tr>",
                            "<tr><td>92</td><td>826454897</td><td>adventure-works\\tom0</td><td>0x7AE8C6</td><td>4</td><td>Production Technician - WC10</td><td>1986-10-01</td><td>M</td><td>M</td><td>2010-03-10</td><td>0</td><td>98</td><td>69</td><td>1</td><td>b3bf7fc5-2014-48ce-b7bb-76124fa8446c</td><td>2014-06-30 00:00:00.000</td></tr>",
                            "<tr><td>103</td><td>455563743</td><td>adventure-works\\ebru0</td><td>0x7AEAAC</td><td>4</td><td>Production Technician - WC10</td><td>1986-09-22</td><td>S</td><td>M</td><td>2009-12-06</td><td>0</td><td>93</td><td>66</td><td>1</td><td>6c25a32b-88b5-4f84-a129-f7f688dfa588</td><td>2014-06-30 00:00:00.000</td></tr>",
                            "<tr><td>104</td><td>717889520</td><td>adventure-works\\mary1</td><td>0x7AEAB4</td><td>4</td><td>Production Technician - WC10</td><td>1986-09-19</td><td>M</td><td>F</td><td>2009-12-25</td><td>0</td><td>94</td><td>67</td><td>1</td><td>6dc9f7d0-5664-4e4a-90f5-7ab85ebb02e6</td><td>2014-06-30 00:00:00.000</td></tr>",
                            "<tr><td>106</td><td>561196580</td><td>adventure-works\\john4</td><td>0x7AEAC2</td><td>4</td><td>Production Technician - WC10</td><td>1986-09-28</td><td>S</td><td>M</td><td>2010-02-27</td><td>0</td><td>92</td><td>66</td><td>1</td><td>d4cf23d9-21b6-45e4-827c-22890df0373b</td><td>2014-06-30 00:00:00.000</td></tr>",
                            "<tr><td>107</td><td>393421437</td><td>adventure-works\\christopher0</td><td>0x7AEAC6</td><td>4</td><td>Production Technician - WC10</td><td>1986-10-01</td><td>M</td><td>M</td><td>2010-02-08</td><td>0</td><td>91</td><td>65</td><td>1</td><td>f71c6055-557b-4660-86ff-8c0fa14b24e6</td><td>2014-06-30 00:00:00.000</td></tr>",
                            "<tr><td>109</td><td>113695504</td><td>adventure-works\\alice0</td><td>0x7AEBAC</td><td>4</td><td>Production Technician - WC50</td><td>1978-01-26</td><td>M</td><td>F</td><td>2008-12-07</td><td>0</td><td>95</td><td>67</td><td>1</td><td>7e632b21-0d11-4bba-8a68-8cae14c20ae6</td><td>2014-06-30 00:00:00.000</td></tr>",
                            "<tr><td>111</td><td>415823523</td><td>adventure-works\\suroor0</td><td>0x7AEBBC</td><td>4</td><td>Production Technician - WC50</td><td>1978-02-25</td><td>S</td><td>M</td><td>2008-12-17</td><td>0</td><td>93</td><td>66</td><td>1</td><td>14010b0e-c101-4e41-b788-21923399e512</td><td>2014-06-30 00:00:00.000</td></tr>",
                            "<tr><td>112</td><td>981597097</td><td>adventure-works\\john1</td><td>0x7AEBC2</td><td>4</td><td>Production Technician - WC50</td><td>1978-05-31</td><td>S</td><td>M</td><td>2009-01-01</td><td>0</td><td>91</td><td>65</td><td>1</td><td>b6998410-ee0f-4307-9e6e-fe348f11012d</td><td>2014-06-30 00:00:00.000</td></tr>",
                            "<tr><td>113</td><td>54759846</td><td>adventure-works\\linda0</td><td>0x7AEBC6</td><td>4</td><td>Production Technician - WC50</td><td>1987-07-17</td><td>M</td><td>F</td><td>2008-12-25</td><td>0</td><td>96</td><td>68</td><td>1</td><td>fb84759c-b687-43b2-8727-125efe0f5e13</td><td>2014-06-30 00:00:00.000</td></tr>",
                            "<tr><td>114</td><td>342607223</td><td>adventure-works\\mindaugas0</td><td>0x7AEBCA</td><td>4</td><td>Production Technician - WC50</td><td>1978-05-07</td><td>M</td><td>M</td><td>2009-01-13</td><td>0</td><td>97</td><td>68</td><td>1</td><td>1d784088-dacb-4185-9f60-3d2db4925ba5</td><td>2014-06-30 00:00:00.000</td></tr>",
                            "<tr><td>115</td><td>563680513</td><td>adventure-works\\angela0</td><td>0x7AEBCE</td><td>4</td><td>Production Technician - WC50</td><td>1991-05-31</td><td>S</td><td>F</td><td>2009-01-20</td><td>0</td><td>92</td><td>66</td><td>1</td><td>4958e1c3-c872-4222-954e-09d2060ea7ef</td><td>2014-06-30 00:00:00.000</td></tr>",
                            "<tr><td>116</td><td>398737566</td><td>adventure-works\\michael2</td><td>0x7AEBD1</td><td>4</td><td>Production Technician - WC50</td><td>1974-05-03</td><td>S</td><td>M</td><td>2009-01-31</td><td>0</td><td>98</td><td>69</td><td>1</td><td>c6eb2566-cf28-4602-9a25-5b91c8728838</td><td>2014-06-30 00:00:00.000</td></tr>",
                            "<tr><td>117</td><td>599942664</td><td>adventure-works\\chad0</td><td>0x7AEBD3</td><td>4</td><td>Production Technician - WC50</td><td>1990-08-04</td><td>M</td><td>M</td><td>2009-02-18</td><td>0</td><td>99</td><td>69</td><td>1</td><td>83a32d4c-4725-478f-9997-91739bb957ba</td><td>2014-06-30 00:00:00.000</td></tr>",
                            "<tr><td>119</td><td>334834274</td><td>adventure-works\\michael4</td><td>0x7AEBD7</td><td>4</td><td>Production Technician - WC50</td><td>1989-06-15</td><td>S</td><td>M</td><td>2009-02-25</td><td>0</td><td>94</td><td>67</td><td>1</td><td>eb27c026-9470-4450-8d5e-1f38a41793b5</td><td>2014-06-30 00:00:00.000</td></tr>",
                            "<tr><td>121</td><td>521265716</td><td>adventure-works\\pilar0</td><td>0x7AEC80</td><td>3</td><td>Shipping and Receiving Supervisor</td><td>1972-09-09</td><td>S</td><td>M</td><td>2009-01-02</td><td>1</td><td>93</td><td>66</td><td>1</td><td>01bcce22-d63a-4c3f-9ba8-d3d5a4c3bd52</td><td>2014-06-30 00:00:00.000</td></tr>",
                            "<tr><td>122</td><td>586486572</td><td>adventure-works\\susan0</td><td>0x7AECAC</td><td>4</td><td>Stocker</td><td>1978-02-17</td><td>S</td><td>F</td><td>2008-12-07</td><td>0</td><td>97</td><td>68</td><td>1</td><td>923ecfd6-e202-429a-9141-6cb183531439</td><td>2014-06-30 00:00:00.000</td></tr>",
                            "<tr><td>123</td><td>337752649</td><td>adventure-works\\vamsi0</td><td>0x7AECB4</td><td>4</td><td>Shipping and Receiving Clerk</td><td>1977-03-18</td><td>M</td><td>M</td><td>2008-12-07</td><td>0</td><td>95</td><td>67</td><td>1</td><td>a8838ab2-99de-415c-8675-d82ebf1c4752</td><td>2014-06-30 00:00:00.000</td></tr>",
                            "<tr><td>124</td><td>420776180</td><td>adventure-works\\kim0</td><td>0x7AECBC</td><td>4</td><td>Stocker</td><td>1984-04-30</td><td>S</td><td>F</td><td>2008-12-26</td><td>0</td><td>98</td><td>69</td><td>1</td><td>6150f197-7923-40d4-84f2-936207d468ab</td><td>2014-06-30 00:00:00.000</td></tr>",
                            "<tr><td>125</td><td>584205124</td><td>adventure-works\\matthias0</td><td>0x7AECC2</td><td>4</td><td>Shipping and Receiving Clerk</td><td>1973-11-11</td><td>M</td><td>M</td><td>2009-01-20</td><td>0</td><td>94</td><td>67</td><td>1</td><td>54ed63dc-c62c-4cc7-89c2-015df49c49a5</td><td>2014-06-30 00:00:00.000</td></tr>",
                            "<tr><td>126</td><td>652779496</td><td>adventure-works\\jimmy0</td><td>0x7AECC6</td><td>4</td><td>Stocker</td><td>1985-05-04</td><td>M</td><td>M</td><td>2009-02-26</td><td>0</td><td>96</td><td>68</td><td>1</td><td>96442787-9520-4955-a457-38afddb6ff13</td><td>2014-06-30 00:00:00.000</td></tr>",
                            "<tr><td>228</td><td>553069203</td><td>adventure-works\\christian0</td><td>0x7C2B</td><td>3</td><td>Maintenance Supervisor</td><td>1976-01-18</td><td>M</td><td>M</td><td>2008-12-14</td><td>1</td><td>92</td><td>66</td><td>1</td><td>4611c7c5-90a0-407f-b054-93bd51533609</td><td>2014-06-30 00:00:00.000</td></tr>",
                            "<tr><td>231</td><td>153479919</td><td>adventure-works\\jo1</td><td>0x7C2B78</td><td>4</td><td>Janitor</td><td>1954-04-24</td><td>M</td><td>F</td><td>2010-03-07</td><td>0</td><td>91</td><td>65</td><td>1</td><td>39af5cca-9b52-41e5-b510-72901d2578f6</td><td>2014-06-30 00:00:00.000</td></tr>",
                            "</table>"
                        ]
                    }
                }
            ],
            "execution_count": 14
        },
        {
            "cell_type": "code",
            "source": [
                "use AdventureWorks2014\r\n",
                "SELECT b.firstname,\r\n",
                "b.lastname,\r\n",
                "a.jobtitle,\r\n",
                "a.VacationHours,\r\n",
                "a.LoginID,\r\n",
                "a.businessentityid\r\n",
                "FROM HumanResources.Employee a \r\n",
                "INNER JOIN Person.Person b\r\n",
                "ON a.businessentityid = b.BusinessentityId\r\n",
                "WHERE a.JobTitle = 'Marketing Assistant'\r\n",
                "AND a.VacationHours > 41;"
            ],
            "metadata": {
                "azdata_cell_guid": "bf7fdce6-673a-419e-9670-7d5e6bf2b0ba"
            },
            "outputs": [
                {
                    "output_type": "display_data",
                    "data": {
                        "text/html": "(2 rows affected)"
                    },
                    "metadata": {}
                },
                {
                    "output_type": "display_data",
                    "data": {
                        "text/html": "Total execution time: 00:00:00.021"
                    },
                    "metadata": {}
                },
                {
                    "output_type": "execute_result",
                    "metadata": {},
                    "execution_count": 19,
                    "data": {
                        "application/vnd.dataresource+json": {
                            "schema": {
                                "fields": [
                                    {
                                        "name": "firstname"
                                    },
                                    {
                                        "name": "lastname"
                                    },
                                    {
                                        "name": "jobtitle"
                                    },
                                    {
                                        "name": "VacationHours"
                                    },
                                    {
                                        "name": "LoginID"
                                    },
                                    {
                                        "name": "businessentityid"
                                    }
                                ]
                            },
                            "data": [
                                {
                                    "0": "Kevin",
                                    "1": "Brown",
                                    "2": "Marketing Assistant",
                                    "3": "42",
                                    "4": "adventure-works\\kevin0",
                                    "5": "17"
                                },
                                {
                                    "0": "Mary",
                                    "1": "Dempsey",
                                    "2": "Marketing Assistant",
                                    "3": "43",
                                    "4": "adventure-works\\mary2",
                                    "5": "19"
                                }
                            ]
                        },
                        "text/html": [
                            "<table>",
                            "<tr><th>firstname</th><th>lastname</th><th>jobtitle</th><th>VacationHours</th><th>LoginID</th><th>businessentityid</th></tr>",
                            "<tr><td>Kevin</td><td>Brown</td><td>Marketing Assistant</td><td>42</td><td>adventure-works\\kevin0</td><td>17</td></tr>",
                            "<tr><td>Mary</td><td>Dempsey</td><td>Marketing Assistant</td><td>43</td><td>adventure-works\\mary2</td><td>19</td></tr>",
                            "</table>"
                        ]
                    }
                }
            ],
            "execution_count": 19
        }
    ]
}